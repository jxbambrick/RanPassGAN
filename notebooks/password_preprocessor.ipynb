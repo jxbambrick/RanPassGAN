{
 "cells": [
  {
   "cell_type": "markdown",
   "metadata": {},
   "source": [
    "# 1. Project Configuration"
   ]
  },
  {
   "cell_type": "code",
   "execution_count": 1,
   "metadata": {},
   "outputs": [],
   "source": [
    "import tensorflow as tf\n",
    "\n",
    "DATA_FOLDER_DIR = \"resources/data/numeric_only/sample_12digit_pattern5\" # this is the location of the raw dataset to process\n",
    "TF_RECORD_OUTPUT_DIR = \"resources/tf_records/numeric-only/tf_12digit_pattern5\" # directory of the TFRecord files to load\n",
    "\n",
    "MAX_SEQUENCE_LENGTH = 12 # This should be the max length of the password, 12 default\n",
    "VOCAB = \"0123456789\" # This should be the vocabulary of the password, 0123456789 default\n",
    "VOCAB_SIZE = len(VOCAB)\n",
    "\n",
    "LIMIT_TF_RECORD_DATASET = True # For testing, might be good to limit the number of TFRecord files to use\n",
    "TF_RECORD_DATASET_LIMIT = 1 # Number of TFRecord files to be used for training\n",
    "\n",
    "EPOCHS = 1\n",
    "BATCH_SIZE = 512\n",
    "BUFFER_SIZE = 10000\n",
    "PREFETCH_SIZE = tf.data.AUTOTUNE  # Automatically tune prefetch buffer size\n",
    "\n",
    "NUM_SAMPLES = 500000  # This should be the number of samples in each dataset: 500k default\n",
    "NUM_FILES = None  # This should be the number of files in your dataset\n",
    "\n",
    "# Used to create a generator/discriminiator to verify passwords are being one_hot_encoded correctly\n",
    "G_OPTIMIZE_LEARNING_RATE = 0.0001\n",
    "D_OPTIMIZE_LEARNING_RATE = 0.00001\n",
    "\n",
    "# Model monitor for storoing genreated passwords, not needed, can be taken out in future\n",
    "FOLDER_PATH = \"resources/generated_passwords\""
   ]
  },
  {
   "cell_type": "code",
   "execution_count": 2,
   "metadata": {},
   "outputs": [],
   "source": [
    "import os\n",
    "\n",
    "# Check if the current working directory is notebooks, if so change to the root directory\n",
    "current_dir = os.getcwd()\n",
    "\n",
    "if current_dir.split(\"/\")[-1] == \"notebooks\":\n",
    "    print (f\"Changing current working directory: {os.getcwd()}\\n\")\n",
    "    os.chdir('../')"
   ]
  },
  {
   "cell_type": "markdown",
   "metadata": {},
   "source": [
    "# 2. Create TensorFlow Records"
   ]
  },
  {
   "cell_type": "code",
   "execution_count": 3,
   "metadata": {},
   "outputs": [],
   "source": [
    "import os\n",
    "\n",
    "# Get all of the files in the folder\n",
    "def get_all_files_in_folder(folder_path):\n",
    "    \"\"\"Return a list of all files in the specified folder.\"\"\"\n",
    "\n",
    "    # Get the current working directory\n",
    "    current_directory = os.getcwd()\n",
    "\n",
    "    # Print the current working directory\n",
    "    print(f\"Current Directory: {current_directory}\")\n",
    "    print(f\"Getting all files in folder: {folder_path}\")\n",
    "\n",
    "    # List all items in the folder\n",
    "    all_items = os.listdir(folder_path)\n",
    "    \n",
    "    return [item for item in all_items if os.path.isfile(os.path.join(folder_path, item))]"
   ]
  },
  {
   "cell_type": "code",
   "execution_count": 4,
   "metadata": {},
   "outputs": [],
   "source": [
    "import re\n",
    "\n",
    "# Function to preprocess passwords\n",
    "def preprocess_password(password):\n",
    "    # Remove non-numeric characters\n",
    "    password = re.sub(r'\\D', '', password)\n",
    "    # Ensure password is 12 characters long\n",
    "    return password if len(password) == 12 else None\n"
   ]
  },
  {
   "cell_type": "code",
   "execution_count": 5,
   "metadata": {},
   "outputs": [],
   "source": [
    "def one_hot_encode(password):\n",
    "    # Define the one-hot encoding for each digit\n",
    "    encoding = []\n",
    "    for char in password:\n",
    "        one_hot = [0]*10\n",
    "        one_hot[int(char)] = 1\n",
    "        encoding.extend(one_hot)\n",
    "    return encoding"
   ]
  },
  {
   "cell_type": "code",
   "execution_count": 6,
   "metadata": {},
   "outputs": [
    {
     "name": "stdout",
     "output_type": "stream",
     "text": [
      "Current Directory: /Users/bambrick/DevCenter/Juypter/PasswordGAN/notebooks/demo\n",
      "Getting all files in folder: resources/data/numeric_only/sample_12digit_pattern5\n"
     ]
    },
    {
     "ename": "FileNotFoundError",
     "evalue": "[Errno 2] No such file or directory: 'resources/data/numeric_only/sample_12digit_pattern5'",
     "output_type": "error",
     "traceback": [
      "\u001b[0;31m---------------------------------------------------------------------------\u001b[0m",
      "\u001b[0;31mFileNotFoundError\u001b[0m                         Traceback (most recent call last)",
      "\u001b[1;32m/Users/bambrick/DevCenter/Juypter/PasswordGAN/notebooks/demo/password_preprocessor.ipynb Cell 8\u001b[0m line \u001b[0;36m4\n\u001b[1;32m      <a href='vscode-notebook-cell:/Users/bambrick/DevCenter/Juypter/PasswordGAN/notebooks/demo/password_preprocessor.ipynb#X10sZmlsZQ%3D%3D?line=0'>1</a>\u001b[0m \u001b[39mimport\u001b[39;00m \u001b[39mos\u001b[39;00m\n\u001b[1;32m      <a href='vscode-notebook-cell:/Users/bambrick/DevCenter/Juypter/PasswordGAN/notebooks/demo/password_preprocessor.ipynb#X10sZmlsZQ%3D%3D?line=2'>3</a>\u001b[0m \u001b[39m# get all of the password files in the folder\u001b[39;00m\n\u001b[0;32m----> <a href='vscode-notebook-cell:/Users/bambrick/DevCenter/Juypter/PasswordGAN/notebooks/demo/password_preprocessor.ipynb#X10sZmlsZQ%3D%3D?line=3'>4</a>\u001b[0m password_files \u001b[39m=\u001b[39m get_all_files_in_folder(DATA_FOLDER_DIR)\n\u001b[1;32m      <a href='vscode-notebook-cell:/Users/bambrick/DevCenter/Juypter/PasswordGAN/notebooks/demo/password_preprocessor.ipynb#X10sZmlsZQ%3D%3D?line=4'>5</a>\u001b[0m \u001b[39mprint\u001b[39m(\u001b[39mf\u001b[39m\u001b[39m\"\u001b[39m\u001b[39m\\n\u001b[39;00m\u001b[39mNumber of password files: \u001b[39m\u001b[39m{\u001b[39;00m\u001b[39mlen\u001b[39m(password_files)\u001b[39m}\u001b[39;00m\u001b[39m\"\u001b[39m)\n\u001b[1;32m      <a href='vscode-notebook-cell:/Users/bambrick/DevCenter/Juypter/PasswordGAN/notebooks/demo/password_preprocessor.ipynb#X10sZmlsZQ%3D%3D?line=6'>7</a>\u001b[0m \u001b[39mprint\u001b[39m(\u001b[39mf\u001b[39m\u001b[39m\"\u001b[39m\u001b[39mChecking if TFRecord output directory exists: \u001b[39m\u001b[39m{\u001b[39;00mTF_RECORD_OUTPUT_DIR\u001b[39m}\u001b[39;00m\u001b[39m\"\u001b[39m)\n",
      "\u001b[1;32m/Users/bambrick/DevCenter/Juypter/PasswordGAN/notebooks/demo/password_preprocessor.ipynb Cell 8\u001b[0m line \u001b[0;36m1\n\u001b[1;32m     <a href='vscode-notebook-cell:/Users/bambrick/DevCenter/Juypter/PasswordGAN/notebooks/demo/password_preprocessor.ipynb#X10sZmlsZQ%3D%3D?line=11'>12</a>\u001b[0m \u001b[39mprint\u001b[39m(\u001b[39mf\u001b[39m\u001b[39m\"\u001b[39m\u001b[39mGetting all files in folder: \u001b[39m\u001b[39m{\u001b[39;00mfolder_path\u001b[39m}\u001b[39;00m\u001b[39m\"\u001b[39m)\n\u001b[1;32m     <a href='vscode-notebook-cell:/Users/bambrick/DevCenter/Juypter/PasswordGAN/notebooks/demo/password_preprocessor.ipynb#X10sZmlsZQ%3D%3D?line=13'>14</a>\u001b[0m \u001b[39m# List all items in the folder\u001b[39;00m\n\u001b[0;32m---> <a href='vscode-notebook-cell:/Users/bambrick/DevCenter/Juypter/PasswordGAN/notebooks/demo/password_preprocessor.ipynb#X10sZmlsZQ%3D%3D?line=14'>15</a>\u001b[0m all_items \u001b[39m=\u001b[39m os\u001b[39m.\u001b[39;49mlistdir(folder_path)\n\u001b[1;32m     <a href='vscode-notebook-cell:/Users/bambrick/DevCenter/Juypter/PasswordGAN/notebooks/demo/password_preprocessor.ipynb#X10sZmlsZQ%3D%3D?line=16'>17</a>\u001b[0m \u001b[39mreturn\u001b[39;00m [item \u001b[39mfor\u001b[39;00m item \u001b[39min\u001b[39;00m all_items \u001b[39mif\u001b[39;00m os\u001b[39m.\u001b[39mpath\u001b[39m.\u001b[39misfile(os\u001b[39m.\u001b[39mpath\u001b[39m.\u001b[39mjoin(folder_path, item))]\n",
      "\u001b[0;31mFileNotFoundError\u001b[0m: [Errno 2] No such file or directory: 'resources/data/numeric_only/sample_12digit_pattern5'"
     ]
    }
   ],
   "source": [
    "import os\n",
    "\n",
    "# Get all of the password files in the folder\n",
    "password_files = get_all_files_in_folder(DATA_FOLDER_DIR)\n",
    "print(f\"\\nNumber of password files: {len(password_files)}\")\n",
    "\n",
    "print(f\"Checking if TFRecord output directory exists: {TF_RECORD_OUTPUT_DIR}\")\n",
    "if not os.path.exists(TF_RECORD_OUTPUT_DIR):\n",
    "    print(f\"Created TFRecord output directory: {TF_RECORD_OUTPUT_DIR}\")\n",
    "    os.makedirs(TF_RECORD_OUTPUT_DIR)\n",
    "\n",
    "# Loop through each password file\n",
    "print(f\"Looping through each password file in: {DATA_FOLDER_DIR}\")\n",
    "for count, file_name in enumerate(password_files):\n",
    "    print(f\"  - Processing file: {count+1} of {len(password_files)} - {file_name}\")\n",
    "    \n",
    "    # Reading and preprocessing passwords\n",
    "    passwords = []\n",
    "     \n",
    "    password_file = os.path.join(DATA_FOLDER_DIR, file_name)\n",
    "    with open(password_file, 'r') as file:\n",
    "        for line in file:\n",
    "            processed = preprocess_password(line.strip())\n",
    "            if processed:\n",
    "                passwords.append(processed)\n",
    "            else:\n",
    "                print(f\"***** Invalid password format: {line.strip()} *****\")\n",
    "\n",
    "    # Creating a TFRecord file\n",
    "    tf_record_file = os.path.join(TF_RECORD_OUTPUT_DIR, os.path.splitext(file_name)[0] + \".tfrecord\")\n",
    "\n",
    "    with tf.io.TFRecordWriter(tf_record_file) as writer:\n",
    "        \n",
    "        for password in passwords:\n",
    "            encoded_password = one_hot_encode(password) # One-hot encode the password\n",
    "            \n",
    "            # Create a tf.train.Example\n",
    "            feature = {\n",
    "                'password': tf.train.Feature(float_list=tf.train.FloatList(value=encoded_password))\n",
    "            }\n",
    "            example = tf.train.Example(features=tf.train.Features(feature=feature))\n",
    "            \n",
    "            writer.write(example.SerializeToString()) # Serialize and write the example"
   ]
  }
 ],
 "metadata": {
  "kernelspec": {
   "display_name": "passwordgan",
   "language": "python",
   "name": "passwordgan"
  },
  "language_info": {
   "codemirror_mode": {
    "name": "ipython",
    "version": 3
   },
   "file_extension": ".py",
   "mimetype": "text/x-python",
   "name": "python",
   "nbconvert_exporter": "python",
   "pygments_lexer": "ipython3",
   "version": "3.10.4"
  },
  "orig_nbformat": 4
 },
 "nbformat": 4,
 "nbformat_minor": 2
}
