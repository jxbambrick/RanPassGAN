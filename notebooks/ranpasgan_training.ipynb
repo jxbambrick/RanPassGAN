{
 "cells": [
  {
   "cell_type": "markdown",
   "metadata": {},
   "source": [
    "# 1. Project Dependencies & Config"
   ]
  },
  {
   "cell_type": "code",
   "execution_count": 1,
   "metadata": {},
   "outputs": [],
   "source": [
    "import tensorflow as tf\n",
    "\n",
    "TF_RECORD_OUTPUT_DIR = \"resources/tf_records/numeric-only/tf_12digit_pattern4\" # directory of the TFRecord files to load\n",
    "\n",
    "# Enable to limit the number of TFRecord files to use for training\n",
    "LIMIT_TF_RECORD_DATASET = True # for testing, might be good to limit the number of TFRecord files to use\n",
    "TF_RECORD_DATASET_LIMIT = 2 # number of TFRecord files to be used for training\n",
    "\n",
    "# Password metadata\n",
    "MAX_SEQUENCE_LENGTH = 12 # This should be the max length of the password, 12 default\n",
    "VOCAB = \"0123456789\" # This should be the vocabulary of the password, 0123456789 default\n",
    "VOCAB_SIZE = len(VOCAB)\n",
    "\n",
    "NUM_SAMPLES = 500000  # This should be the number of samples in each dataset: 500k default\n",
    "NUM_FILES = 200  # This should be the number of files in your dataset\n",
    "\n",
    "# Training settings\n",
    "EPOCHS = 10\n",
    "BATCH_SIZE = 128\n",
    "BUFFER_SIZE = 10000\n",
    "PREFETCH_SIZE = tf.data.AUTOTUNE  # Automatically tune prefetch buffer size\n",
    "\n",
    "# Used to create a generator/discriminiator to verify passwords are being one_hot_encoded correctly\n",
    "G_OPTIMIZE_LEARNING_RATE = 0.0001\n",
    "D_OPTIMIZE_LEARNING_RATE = 0.00001\n",
    "\n",
    "# model monitor for storoing genreated passwords, not needed, can be taken out in future\n",
    "FOLDER_PATH = \"training_sessions\"\n",
    "TRAINING_SESSION = None\n",
    "TRAINING_SESSION_PATH = None"
   ]
  },
  {
   "cell_type": "code",
   "execution_count": 2,
   "metadata": {},
   "outputs": [
    {
     "name": "stdout",
     "output_type": "stream",
     "text": [
      "Current working directory: /Users/bambrick/DevCenter/Juypter/PasswordGAN/notebooks/demo\n",
      "Changed current working directory to: /Users/bambrick/DevCenter/Juypter/PasswordGAN\n",
      "\n"
     ]
    }
   ],
   "source": [
    "import os\n",
    "\n",
    "# Get the current working directory\n",
    "current_dir = os.getcwd()\n",
    "print(f\"Current working directory: {current_dir}\")\n",
    "\n",
    "# Check if the last directory in the current path is 'notebooks'\n",
    "if 'notebooks' in current_dir.split(os.sep):\n",
    "    # Change the current working directory two levels up\n",
    "    os.chdir('../../')\n",
    "    print(f\"Changed current working directory to: {os.getcwd()}\\n\")\n",
    "else:\n",
    "    print(\"Current directory is not inside 'notebooks', no change needed.\")\n"
   ]
  },
  {
   "cell_type": "code",
   "execution_count": 3,
   "metadata": {},
   "outputs": [
    {
     "name": "stdout",
     "output_type": "stream",
     "text": [
      "Created training session project folder: training_sessions/tf_12digit_pattern4_2023_11_11_232310\n"
     ]
    }
   ],
   "source": [
    "import os\n",
    "import datetime\n",
    "\n",
    "global TRAINING_SESSION\n",
    "global TRAINING_SESSION_PATH\n",
    "\n",
    "# Get the current date and time\n",
    "now = datetime.datetime.now()\n",
    "timestamp = now.strftime(\"%Y_%m_%d_%H%M%S\")\n",
    "\n",
    "TRAINING_SESSION = f\"{TF_RECORD_OUTPUT_DIR.split('/')[-1]}_{timestamp}\"\n",
    "TRAINING_SESSION_PATH = os.path.join(FOLDER_PATH, TRAINING_SESSION)\n",
    "\n",
    "# Create the training session folder\n",
    "if not os.path.exists(TRAINING_SESSION_PATH):\n",
    "    os.makedirs(TRAINING_SESSION_PATH, exist_ok=True)\n",
    "\n",
    "# Printing the generated filename\n",
    "if os.path.exists(TRAINING_SESSION_PATH):\n",
    "    print(f\"Created training session project folder: {TRAINING_SESSION_PATH}\")\n",
    "else:\n",
    "    print(f\"Failed to create training session project folder: {TRAINING_SESSION_PATH}\")\n"
   ]
  },
  {
   "cell_type": "code",
   "execution_count": 4,
   "metadata": {},
   "outputs": [],
   "source": [
    "import os\n",
    "\n",
    "# Get all of the files in the folder\n",
    "def get_all_files_in_folder(folder_path):\n",
    "    \"\"\"Return a list of all files in the specified folder.\"\"\"\n",
    "\n",
    "    # Get the current working directory\n",
    "    current_directory = os.getcwd()\n",
    "\n",
    "    # Print the current working directory\n",
    "    print(f\"Current Directory: {current_directory}\")\n",
    "    print(f\"Getting all files in folder: {folder_path}\")\n",
    "\n",
    "    # List all items in the folder\n",
    "    all_items = os.listdir(folder_path)\n",
    "    \n",
    "    return [item for item in all_items if os.path.isfile(os.path.join(folder_path, item))]"
   ]
  },
  {
   "cell_type": "code",
   "execution_count": 5,
   "metadata": {},
   "outputs": [],
   "source": [
    "import tensorflow as tf\n",
    "\n",
    "# Create a prased dataset for training the model\n",
    "def load_tf_records(folder_path):\n",
    "    global NUM_FILES\n",
    "\n",
    "    # Define the feature description to parse the tf.train.Example\n",
    "    feature_description = {\n",
    "        'password': tf.io.FixedLenFeature([12, 10], tf.float32),\n",
    "    }\n",
    "\n",
    "    # Function to parse the examples\n",
    "    def _parse_function(proto):\n",
    "        parsed_features = tf.io.parse_single_example(proto, feature_description)\n",
    "        return parsed_features['password']\n",
    "\n",
    "    # Reading the TFRecord file\n",
    "    tf_records = get_all_files_in_folder(folder_path)\n",
    "    tf_records_path = None\n",
    "\n",
    "    if LIMIT_TF_RECORD_DATASET:\n",
    "        NUM_FILES = min(TF_RECORD_DATASET_LIMIT, len(tf_records))\n",
    "        # if the number of files in the folder is less than TF_RECORD_DATASET_LIMIT, then get all of the files\n",
    "        tf_records_path = [os.path.join(folder_path, item)\n",
    "                           for item in tf_records[:NUM_FILES]]\n",
    "    else:\n",
    "        NUM_FILES = len(tf_records)\n",
    "        tf_records_path = [os.path.join(folder_path, item)\n",
    "                           for item in tf_records]\n",
    "\n",
    "    # Parsing the dataset\n",
    "    raw_dataset = tf.data.TFRecordDataset(tf_records_path)\n",
    "    parsed_dataset = raw_dataset.map(_parse_function)\n",
    "\n",
    "    # Batching and shuffling the dataset\n",
    "    parsed_dataset = parsed_dataset.batch(BATCH_SIZE)\n",
    "    parsed_dataset = parsed_dataset.shuffle(buffer_size=BUFFER_SIZE)\n",
    "    parsed_dataset = parsed_dataset.prefetch(buffer_size=tf.data.experimental.AUTOTUNE)\n",
    "\n",
    "    # Repeat the dataset indefinitely - ensures there is enough data for training\n",
    "    parsed_dataset = parsed_dataset.repeat()\n",
    "\n",
    "    return parsed_dataset\n"
   ]
  },
  {
   "cell_type": "code",
   "execution_count": 6,
   "metadata": {},
   "outputs": [
    {
     "name": "stdout",
     "output_type": "stream",
     "text": [
      "Current Directory: /Users/bambrick/DevCenter/Juypter/PasswordGAN\n",
      "Getting all files in folder: resources/tf_records/numeric-only/tf_12digit_pattern4\n"
     ]
    },
    {
     "name": "stderr",
     "output_type": "stream",
     "text": [
      "2023-11-11 23:23:10.768169: I metal_plugin/src/device/metal_device.cc:1154] Metal device set to: Apple M1 Max\n",
      "2023-11-11 23:23:10.768189: I metal_plugin/src/device/metal_device.cc:296] systemMemory: 64.00 GB\n",
      "2023-11-11 23:23:10.768194: I metal_plugin/src/device/metal_device.cc:313] maxCacheSize: 24.00 GB\n",
      "2023-11-11 23:23:10.768225: I tensorflow/core/common_runtime/pluggable_device/pluggable_device_factory.cc:306] Could not identify NUMA node of platform GPU ID 0, defaulting to 0. Your kernel may not have been built with NUMA support.\n",
      "2023-11-11 23:23:10.768240: I tensorflow/core/common_runtime/pluggable_device/pluggable_device_factory.cc:272] Created TensorFlow device (/job:localhost/replica:0/task:0/device:GPU:0 with 0 MB memory) -> physical PluggableDevice (device: 0, name: METAL, pci bus id: <undefined>)\n"
     ]
    }
   ],
   "source": [
    "parsed_dataset = load_tf_records(TF_RECORD_OUTPUT_DIR)"
   ]
  },
  {
   "cell_type": "code",
   "execution_count": 7,
   "metadata": {},
   "outputs": [
    {
     "data": {
      "text/plain": [
       "<tf.Tensor: shape=(1, 12, 10), dtype=float32, numpy=\n",
       "array([[[0.00854475, 0.00823159, 0.00839481, 0.00825113, 0.00838921,\n",
       "         0.00841496, 0.0084386 , 0.00820875, 0.00825488, 0.00847967],\n",
       "        [0.00845454, 0.00865431, 0.00855264, 0.00842359, 0.00816466,\n",
       "         0.00849619, 0.00825898, 0.00815937, 0.00845559, 0.00837268],\n",
       "        [0.00832873, 0.00840282, 0.00812982, 0.00815672, 0.00823552,\n",
       "         0.00836173, 0.00839075, 0.00827507, 0.00847908, 0.00818234],\n",
       "        [0.00826961, 0.00864331, 0.00835104, 0.00801674, 0.00813148,\n",
       "         0.00839332, 0.00829621, 0.00832222, 0.00842986, 0.00825962],\n",
       "        [0.00837312, 0.00824684, 0.00829893, 0.00805303, 0.00851742,\n",
       "         0.00827779, 0.00829227, 0.00871002, 0.00847972, 0.00825868],\n",
       "        [0.00835559, 0.008146  , 0.0085278 , 0.00831414, 0.0080941 ,\n",
       "         0.00848406, 0.00841119, 0.00852509, 0.00821277, 0.00825537],\n",
       "        [0.00818217, 0.00849602, 0.00831305, 0.00829565, 0.00810169,\n",
       "         0.00851994, 0.00804506, 0.00822424, 0.0082622 , 0.00812824],\n",
       "        [0.00811963, 0.00842087, 0.00847049, 0.0082049 , 0.00829745,\n",
       "         0.00823261, 0.00864901, 0.0083829 , 0.0082413 , 0.00839975],\n",
       "        [0.00834844, 0.00820257, 0.0082258 , 0.00809622, 0.00845324,\n",
       "         0.00830361, 0.00834069, 0.00816023, 0.00855497, 0.00825994],\n",
       "        [0.00859589, 0.00809332, 0.00814026, 0.00823653, 0.00823496,\n",
       "         0.0083264 , 0.00854724, 0.00835293, 0.00816082, 0.00816111],\n",
       "        [0.00839449, 0.00827454, 0.00834198, 0.00865602, 0.00835298,\n",
       "         0.00842544, 0.00844183, 0.0082091 , 0.00826715, 0.00829787],\n",
       "        [0.00859718, 0.00851418, 0.00821683, 0.00818866, 0.00848083,\n",
       "         0.00840518, 0.00860282, 0.00831361, 0.00820757, 0.00853854]]],\n",
       "      dtype=float32)>"
      ]
     },
     "execution_count": 7,
     "metadata": {},
     "output_type": "execute_result"
    }
   ],
   "source": [
    "class GeneratorLSTMv2(tf.keras.Model):\n",
    "    def __init__(self, noise_dim=100, **kwargs):\n",
    "        super(GeneratorLSTMv2, self).__init__(**kwargs)\n",
    "        \n",
    "        # Initial dense layer\n",
    "        self.noise_dim = noise_dim\n",
    "        self.dense_1 = tf.keras.layers.Dense(256, activation='relu', input_dim=noise_dim,)\n",
    "        self.batch_norm_1 = tf.keras.layers.BatchNormalization()\n",
    "        self.dropout_1 = tf.keras.layers.Dropout(0.5)\n",
    "        \n",
    "        # LSTM layers for sequence data\n",
    "        self.reshape_1 = tf.keras.layers.Reshape((1, 256))  # Reshape input for LSTM\n",
    "        self.lstm_1 = tf.keras.layers.LSTM(128, return_sequences=True)\n",
    "        self.lstm_2 = tf.keras.layers.LSTM(128)\n",
    "        self.batch_norm_2 = tf.keras.layers.BatchNormalization()\n",
    "        self.dropout_2 = tf.keras.layers.Dropout(0.5)\n",
    "        \n",
    "        # Output layers\n",
    "        self.dense_out = tf.keras.layers.Dense(12 * 10, activation='softmax')  # Adjusted to 12 characters, 10 classes each (digits 0-9)\n",
    "        self.reshape_out = tf.keras.layers.Reshape((12, 10))  # Reshape for output\n",
    "    \n",
    "    def call(self, inputs, training=False):\n",
    "        x = self.dense_1(inputs)\n",
    "        x = self.batch_norm_1(x, training=training)\n",
    "        x = self.dropout_1(x, training=training)\n",
    "        \n",
    "        x = self.reshape_1(x)\n",
    "        x = self.lstm_1(x)\n",
    "        x = self.lstm_2(x)\n",
    "        x = self.batch_norm_2(x, training=training)\n",
    "        x = self.dropout_2(x, training=training)\n",
    "        \n",
    "        x = self.dense_out(x)\n",
    "        x = self.reshape_out(x)\n",
    "        return x\n",
    "\n",
    "    def get_config(self):\n",
    "        config = super().get_config()\n",
    "        config.update({\n",
    "            'noise_dim': self.noise_dim\n",
    "            #self.dense_1.input_shape[-1]  # Accessing the last element of the input_shape tuple\n",
    "        })\n",
    "        return config\n",
    "    \n",
    "    @classmethod\n",
    "    def from_config(cls, config):\n",
    "        return cls(**config)\n",
    "\n",
    "# Now, you can build your model by instantiating the class\n",
    "generator = GeneratorLSTMv2(noise_dim=100)\n",
    "dummy_input = tf.random.normal(shape=(1, 100))  # Assuming noise_dim is 100\n",
    "generator(dummy_input)  # Build the model by calling it\n"
   ]
  },
  {
   "cell_type": "code",
   "execution_count": 8,
   "metadata": {},
   "outputs": [
    {
     "data": {
      "text/plain": [
       "<tf.Tensor: shape=(1, 1), dtype=float32, numpy=array([[0.5268726]], dtype=float32)>"
      ]
     },
     "execution_count": 8,
     "metadata": {},
     "output_type": "execute_result"
    }
   ],
   "source": [
    "class DiscriminatorLSTMv2(tf.keras.Model):\n",
    "\n",
    "    def __init__(self, input_shape=(12, 10), **kwargs):\n",
    "        super(DiscriminatorLSTMv2, self).__init__(**kwargs)\n",
    "        self._input_shape = input_shape  # Save input_shape as an attribute    \n",
    "        self.flatten = tf.keras.layers.Flatten(input_shape=input_shape)\n",
    "        \n",
    "        # Layer 1\n",
    "        self.dense_1 = tf.keras.layers.Dense(256)\n",
    "        self.leaky_relu_1 = tf.keras.layers.LeakyReLU(alpha=0.2)\n",
    "        self.dropout_1 = tf.keras.layers.Dropout(0.5)\n",
    "        self.batch_norm_1 = tf.keras.layers.BatchNormalization()\n",
    "        \n",
    "        # Layer 2\n",
    "        self.dense_2 = tf.keras.layers.Dense(128)\n",
    "        self.leaky_relu_2 = tf.keras.layers.LeakyReLU(alpha=0.2)\n",
    "        self.dropout_2 = tf.keras.layers.Dropout(0.5)\n",
    "        self.batch_norm_2 = tf.keras.layers.BatchNormalization()\n",
    "        \n",
    "        # Output layer\n",
    "        self.dense_out = tf.keras.layers.Dense(1, activation='sigmoid')\n",
    "        \n",
    "    def call(self, inputs, training=False):\n",
    "        x = self.flatten(inputs)\n",
    "        \n",
    "        x = self.dense_1(x)\n",
    "        x = self.leaky_relu_1(x)\n",
    "        x = self.dropout_1(x, training=training)\n",
    "        x = self.batch_norm_1(x, training=training)\n",
    "        \n",
    "        x = self.dense_2(x)\n",
    "        x = self.leaky_relu_2(x)\n",
    "        x = self.dropout_2(x, training=training)\n",
    "        x = self.batch_norm_2(x, training=training)\n",
    "        \n",
    "        x = self.dense_out(x)\n",
    "        return x\n",
    "    \n",
    "    def get_config(self):\n",
    "        config = super().get_config()\n",
    "        config.update({\n",
    "            'input_shape': self._input_shape  # Directly use the input_shape passed during initialization\n",
    "        })\n",
    "        return config\n",
    "\n",
    "    @classmethod\n",
    "    def from_config(cls, config):\n",
    "        return cls(**config)\n",
    "\n",
    "# Now, you can build your model by instantiating the class\n",
    "discriminator = DiscriminatorLSTMv2()\n",
    "dummy_input = tf.random.normal(shape=(1, 12, 10))  # Matching the expected input shape\n",
    "discriminator(dummy_input)  # Build the model by calling it"
   ]
  },
  {
   "cell_type": "code",
   "execution_count": 9,
   "metadata": {},
   "outputs": [],
   "source": [
    "from tensorflow.keras.optimizers.legacy import Adam\n",
    "from tensorflow.keras.losses import BinaryCrossentropy\n",
    "\n",
    "def configure_losses_optimizers():\n",
    "    gen_opt = Adam(learning_rate=G_OPTIMIZE_LEARNING_RATE)\n",
    "    gen_loss = BinaryCrossentropy()\n",
    "    \n",
    "    dis_opt = Adam(learning_rate=D_OPTIMIZE_LEARNING_RATE)\n",
    "    dis_loss = BinaryCrossentropy()\n",
    "\n",
    "    return gen_opt, gen_loss, dis_opt, dis_loss\n",
    "\n",
    "gen_opt, gen_loss, dis_opt, dis_loss = configure_losses_optimizers()"
   ]
  },
  {
   "cell_type": "code",
   "execution_count": 10,
   "metadata": {},
   "outputs": [],
   "source": [
    "class RanPassGAN(tf.keras.Model): #(Model):\n",
    "    def __init__(self, generator, discriminator, *args, **kwargs):\n",
    "        # Pass through args and kwargs to base class \n",
    "        super().__init__(*args, **kwargs)\n",
    "        \n",
    "        # Create attributes for gen and disc\n",
    "        self.generator = generator \n",
    "        self.discriminator = discriminator \n",
    "\n",
    "    def get_config(self):\n",
    "        return {\n",
    "            \"generator_config\": self.generator.get_config(),\n",
    "            \"discriminator_config\": self.discriminator.get_config()\n",
    "        }\n",
    "\n",
    "    @classmethod\n",
    "    def from_config(cls, config):\n",
    "        # You might need to modify this depending on how your generator and discriminator are initialized\n",
    "        generator = GeneratorLSTMv2.from_config(config['generator_config'])\n",
    "        discriminator = DiscriminatorLSTMv2.from_config(config['discriminator_config'])\n",
    "        \n",
    "        return cls(generator=generator, discriminator=discriminator)\n",
    "\n",
    "    def call(self, inputs, training=False):\n",
    "        generated_passwords = self.generator(inputs, training=training)\n",
    "        return generated_passwords\n",
    "        \n",
    "    def compile(self, g_opt, d_opt, g_loss, d_loss, *args, **kwargs): \n",
    "        # Compile with base class\n",
    "        super().compile(*args, **kwargs)\n",
    "        \n",
    "        # Create attributes for losses and optimizers\n",
    "        self.g_opt = g_opt\n",
    "        self.d_opt = d_opt\n",
    "        self.g_loss = g_loss\n",
    "        self.d_loss = d_loss \n",
    "        \n",
    "    def train_step(self, batch):\n",
    "        # Get the data \n",
    "        real_passwords = batch\n",
    "        batch_size = tf.shape(real_passwords)[0]  # Dynamically get the batch size\n",
    "\n",
    "        # Generate noise for the generator\n",
    "        noise = tf.random.normal([batch_size, 100])\n",
    "\n",
    "        # Generate fake passwords using the generator\n",
    "        fake_passwords = self.generator(noise, training=True)\n",
    "        \n",
    "        # Train the discriminator\n",
    "        with tf.GradientTape() as d_tape: \n",
    "            # Pass the real and fake passwords to the discriminator model\n",
    "            yhat_real = self.discriminator(real_passwords, training=True) \n",
    "            yhat_fake = self.discriminator(fake_passwords, training=True)\n",
    "            yhat_realfake = tf.concat([yhat_real, yhat_fake], axis=0)\n",
    "\n",
    "            # Create labels for real and fakes passwords\n",
    "            y_realfake = tf.concat([tf.zeros_like(yhat_real), tf.ones_like(yhat_fake)], axis=0)\n",
    "            \n",
    "            # Calculate loss - BINARYCROSS \n",
    "            total_d_loss = self.d_loss(y_realfake, yhat_realfake)\n",
    "            \n",
    "        # Apply backpropagation - nn learn \n",
    "        dgrad = d_tape.gradient(total_d_loss, self.discriminator.trainable_variables) \n",
    "        self.d_opt.apply_gradients(zip(dgrad, self.discriminator.trainable_variables))\n",
    "        \n",
    "        # Train the generator \n",
    "        with tf.GradientTape() as g_tape: \n",
    "            # Generate some new passwords\n",
    "            gen_passwords = self.generator(tf.random.normal((128, 100)), training=True)\n",
    "                                        \n",
    "            # Create the predicted labels\n",
    "            predicted_labels = self.discriminator(gen_passwords, training=False)\n",
    "                                        \n",
    "            # Calculate loss - trick to training to fake out the discriminator\n",
    "            total_g_loss = self.g_loss(tf.zeros_like(predicted_labels), predicted_labels) \n",
    "            \n",
    "        # Apply backprop\n",
    "        ggrad = g_tape.gradient(total_g_loss, self.generator.trainable_variables)\n",
    "        self.g_opt.apply_gradients(zip(ggrad, self.generator.trainable_variables))\n",
    "        \n",
    "        return {\"d_loss\":total_d_loss, \"g_loss\":total_g_loss}"
   ]
  },
  {
   "cell_type": "code",
   "execution_count": 11,
   "metadata": {},
   "outputs": [],
   "source": [
    "import os\n",
    "\n",
    "import tensorflow as tf\n",
    "import numpy as np\n",
    "\n",
    "class ModelMonitor(tf.keras.callbacks.Callback):\n",
    "    def __init__(self, num_passwords=10, latent_dim=100):\n",
    "        self.num_passwords = num_passwords\n",
    "        self.latent_dim = latent_dim\n",
    "    \n",
    "    def on_epoch_end(self, epoch, logs=None):\n",
    "        random_latent_vectors = tf.random.uniform((self.num_passwords, self.latent_dim))\n",
    "        generated_outputs = self.model.generator(random_latent_vectors)\n",
    "\n",
    "        # Convert the generated softmax outputs into digits\n",
    "        generated_passwords = [self.softmax_to_digit(output) for output in generated_outputs]\n",
    "\n",
    "        results_file_path = os.path.join(TRAINING_SESSION_PATH, 'epoch_training_results.md')\n",
    "\n",
    "        # Save to a file\n",
    "        with open(results_file_path, 'a') as file:\n",
    "            file.write(f\"\\n\\n## Epoch {epoch} Results\\n\")\n",
    "            for idx, password in enumerate(generated_passwords):\n",
    "                password_str = ''.join(map(str, password))\n",
    "                file.write(f\"- Generated password {idx}: {password_str}\\n\")\n",
    "                print(f\"Epoch {epoch}: Generated password {idx}: {password_str}\")\n",
    "\n",
    "    def softmax_to_digit(self, softmax_output):\n",
    "        return np.argmax(softmax_output, axis=-1)\n"
   ]
  },
  {
   "cell_type": "code",
   "execution_count": 12,
   "metadata": {},
   "outputs": [
    {
     "name": "stdout",
     "output_type": "stream",
     "text": [
      "***** Training Session Infomration & Configuration *****\n",
      "TF_RECORD_OUTPUT_DIR: resources/tf_records/numeric-only/tf_12digit_pattern4\n",
      "Training session: tf_12digit_pattern4_2023_11_11_232310\n",
      "Training session path: training_sessions/tf_12digit_pattern4_2023_11_11_232310\n",
      "\n",
      "Number of files: 2\n",
      "Number of samples: 500000\n",
      "\n",
      "Batch size: 512\n",
      "Number of epochs: 10\n",
      "Steps per epoch: 1953\n",
      "\n",
      "Epoch 1/10\n"
     ]
    },
    {
     "name": "stderr",
     "output_type": "stream",
     "text": [
      "2023-11-11 23:23:14.169484: I tensorflow/core/grappler/optimizers/custom_graph_optimizer_registry.cc:117] Plugin optimizer for device_type GPU is enabled.\n",
      "2023-11-11 23:23:24.578816: I tensorflow/core/kernels/data/shuffle_dataset_op.cc:422] ShuffleDatasetV3:4: Filling up shuffle buffer (this may take a while): 1373 of 10000\n",
      "2023-11-11 23:23:28.717328: I tensorflow/core/kernels/data/shuffle_dataset_op.cc:452] Shuffle buffer filled.\n"
     ]
    },
    {
     "name": "stdout",
     "output_type": "stream",
     "text": [
      "1952/1953 [============================>.] - ETA: 0s - d_loss: 0.6942 - g_loss: 0.6909Epoch 0: Generated password 0: 748018455611\n",
      "Epoch 0: Generated password 1: 748615657661\n",
      "Epoch 0: Generated password 2: 748611455611\n",
      "Epoch 0: Generated password 3: 748011485611\n",
      "Epoch 0: Generated password 4: 788601455611\n",
      "Epoch 0: Generated password 5: 747601657611\n",
      "Epoch 0: Generated password 6: 748018450611\n",
      "Epoch 0: Generated password 7: 748611450611\n",
      "Epoch 0: Generated password 8: 748012455611\n",
      "Epoch 0: Generated password 9: 748011455611\n",
      "\n",
      "Epoch 1: g_loss improved from -inf to 0.69230, saving model to training_sessions/tf_12digit_pattern4_2023_11_11_232310/models/best_model_epoch_000001\n",
      "INFO:tensorflow:Assets written to: training_sessions/tf_12digit_pattern4_2023_11_11_232310/models/best_model_epoch_000001/assets\n"
     ]
    },
    {
     "name": "stderr",
     "output_type": "stream",
     "text": [
      "INFO:tensorflow:Assets written to: training_sessions/tf_12digit_pattern4_2023_11_11_232310/models/best_model_epoch_000001/assets\n"
     ]
    },
    {
     "name": "stdout",
     "output_type": "stream",
     "text": [
      "1953/1953 [==============================] - 93s 39ms/step - d_loss: 0.6942 - g_loss: 0.6909\n",
      "Epoch 2/10\n",
      "   1/1953 [..............................] - ETA: 2:00 - d_loss: 0.6935 - g_loss: 0.6923"
     ]
    },
    {
     "name": "stderr",
     "output_type": "stream",
     "text": [
      "2023-11-11 23:24:55.438935: I tensorflow/core/kernels/data/shuffle_dataset_op.cc:422] ShuffleDatasetV3:4: Filling up shuffle buffer (this may take a while): 1372 of 10000\n"
     ]
    },
    {
     "name": "stdout",
     "output_type": "stream",
     "text": [
      "   4/1953 [..............................] - ETA: 2:34:18 - d_loss: 0.6935 - g_loss: 0.6923"
     ]
    },
    {
     "name": "stderr",
     "output_type": "stream",
     "text": [
      "2023-11-11 23:24:59.609200: I tensorflow/core/kernels/data/shuffle_dataset_op.cc:452] Shuffle buffer filled.\n"
     ]
    },
    {
     "name": "stdout",
     "output_type": "stream",
     "text": [
      "1953/1953 [==============================] - ETA: 0s - d_loss: 0.6934 - g_loss: 0.6924Epoch 1: Generated password 0: 747605657611\n",
      "Epoch 1: Generated password 1: 748611450611\n",
      "Epoch 1: Generated password 2: 748611157621\n",
      "Epoch 1: Generated password 3: 741660450611\n",
      "Epoch 1: Generated password 4: 748611455611\n",
      "Epoch 1: Generated password 5: 748618485611\n",
      "Epoch 1: Generated password 6: 747611757611\n",
      "Epoch 1: Generated password 7: 748611650611\n",
      "Epoch 1: Generated password 8: 747611757641\n",
      "Epoch 1: Generated password 9: 745602456661\n",
      "\n",
      "Epoch 2: g_loss did not improve from 0.69230\n",
      "1953/1953 [==============================] - 85s 44ms/step - d_loss: 0.6934 - g_loss: 0.6924\n",
      "Epoch 3/10\n",
      "   1/1953 [..............................] - ETA: 1:25 - d_loss: 0.6933 - g_loss: 0.6922"
     ]
    },
    {
     "name": "stderr",
     "output_type": "stream",
     "text": [
      "2023-11-11 23:26:20.657139: I tensorflow/core/kernels/data/shuffle_dataset_op.cc:422] ShuffleDatasetV3:4: Filling up shuffle buffer (this may take a while): 1381 of 10000\n"
     ]
    },
    {
     "name": "stdout",
     "output_type": "stream",
     "text": [
      "   7/1953 [..............................] - ETA: 1:17:29 - d_loss: 0.6933 - g_loss: 0.6922"
     ]
    },
    {
     "name": "stderr",
     "output_type": "stream",
     "text": [
      "2023-11-11 23:26:24.838234: I tensorflow/core/kernels/data/shuffle_dataset_op.cc:452] Shuffle buffer filled.\n"
     ]
    },
    {
     "name": "stdout",
     "output_type": "stream",
     "text": [
      "1953/1953 [==============================] - ETA: 0s - d_loss: 0.6932 - g_loss: 0.6923Epoch 2: Generated password 0: 747615656691\n",
      "Epoch 2: Generated password 1: 748611455611\n",
      "Epoch 2: Generated password 2: 742611456621\n",
      "Epoch 2: Generated password 3: 741660450611\n",
      "Epoch 2: Generated password 4: 748611455611\n",
      "Epoch 2: Generated password 5: 748618485611\n",
      "Epoch 2: Generated password 6: 747611756611\n",
      "Epoch 2: Generated password 7: 748611656611\n",
      "Epoch 2: Generated password 8: 747611750641\n",
      "Epoch 2: Generated password 9: 745612456661\n",
      "\n",
      "Epoch 3: g_loss improved from 0.69230 to 0.69257, saving model to training_sessions/tf_12digit_pattern4_2023_11_11_232310/models/best_model_epoch_000003\n",
      "INFO:tensorflow:Assets written to: training_sessions/tf_12digit_pattern4_2023_11_11_232310/models/best_model_epoch_000003/assets\n"
     ]
    },
    {
     "name": "stderr",
     "output_type": "stream",
     "text": [
      "INFO:tensorflow:Assets written to: training_sessions/tf_12digit_pattern4_2023_11_11_232310/models/best_model_epoch_000003/assets\n"
     ]
    },
    {
     "name": "stdout",
     "output_type": "stream",
     "text": [
      "1953/1953 [==============================] - 88s 45ms/step - d_loss: 0.6932 - g_loss: 0.6923\n",
      "Epoch 4/10\n",
      "   3/1953 [..............................] - ETA: 1:24 - d_loss: 0.6932 - g_loss: 0.6926"
     ]
    },
    {
     "name": "stderr",
     "output_type": "stream",
     "text": [
      "2023-11-11 23:27:45.768066: I tensorflow/core/kernels/data/shuffle_dataset_op.cc:422] ShuffleDatasetV3:4: Filling up shuffle buffer (this may take a while): 1420 of 10000\n"
     ]
    },
    {
     "name": "stdout",
     "output_type": "stream",
     "text": [
      "   8/1953 [..............................] - ETA: 52:04 - d_loss: 0.6932 - g_loss: 0.6926  "
     ]
    },
    {
     "name": "stderr",
     "output_type": "stream",
     "text": [
      "2023-11-11 23:27:49.601464: I tensorflow/core/kernels/data/shuffle_dataset_op.cc:452] Shuffle buffer filled.\n"
     ]
    },
    {
     "name": "stdout",
     "output_type": "stream",
     "text": [
      "1953/1953 [==============================] - ETA: 0s - d_loss: 0.6932 - g_loss: 0.6927Epoch 3: Generated password 0: 747615656691\n",
      "Epoch 3: Generated password 1: 748611455611\n",
      "Epoch 3: Generated password 2: 742611456621\n",
      "Epoch 3: Generated password 3: 741660455611\n",
      "Epoch 3: Generated password 4: 748611455611\n",
      "Epoch 3: Generated password 5: 741618485611\n",
      "Epoch 3: Generated password 6: 747611756611\n",
      "Epoch 3: Generated password 7: 748611455611\n",
      "Epoch 3: Generated password 8: 747611750641\n",
      "Epoch 3: Generated password 9: 745616456661\n",
      "\n",
      "Epoch 4: g_loss improved from 0.69257 to 0.69268, saving model to training_sessions/tf_12digit_pattern4_2023_11_11_232310/models/best_model_epoch_000004\n",
      "INFO:tensorflow:Assets written to: training_sessions/tf_12digit_pattern4_2023_11_11_232310/models/best_model_epoch_000004/assets\n"
     ]
    },
    {
     "name": "stderr",
     "output_type": "stream",
     "text": [
      "INFO:tensorflow:Assets written to: training_sessions/tf_12digit_pattern4_2023_11_11_232310/models/best_model_epoch_000004/assets\n"
     ]
    },
    {
     "name": "stdout",
     "output_type": "stream",
     "text": [
      "1953/1953 [==============================] - 83s 42ms/step - d_loss: 0.6932 - g_loss: 0.6927\n",
      "Epoch 5/10\n",
      "   3/1953 [..............................] - ETA: 1:26 - d_loss: 0.6932 - g_loss: 0.6927"
     ]
    },
    {
     "name": "stderr",
     "output_type": "stream",
     "text": [
      "2023-11-11 23:29:07.838854: I tensorflow/core/kernels/data/shuffle_dataset_op.cc:422] ShuffleDatasetV3:4: Filling up shuffle buffer (this may take a while): 1378 of 10000\n"
     ]
    },
    {
     "name": "stdout",
     "output_type": "stream",
     "text": [
      "   9/1953 [..............................] - ETA: 43:37 - d_loss: 0.6932 - g_loss: 0.6927 "
     ]
    },
    {
     "name": "stderr",
     "output_type": "stream",
     "text": [
      "2023-11-11 23:29:11.836529: I tensorflow/core/kernels/data/shuffle_dataset_op.cc:452] Shuffle buffer filled.\n"
     ]
    },
    {
     "name": "stdout",
     "output_type": "stream",
     "text": [
      "1952/1953 [============================>.] - ETA: 0s - d_loss: 0.6931 - g_loss: 0.6929Epoch 4: Generated password 0: 741615656691\n",
      "Epoch 4: Generated password 1: 748611455611\n",
      "Epoch 4: Generated password 2: 742611456621\n",
      "Epoch 4: Generated password 3: 741660455611\n",
      "Epoch 4: Generated password 4: 748611455611\n",
      "Epoch 4: Generated password 5: 741618485611\n",
      "Epoch 4: Generated password 6: 747611656611\n",
      "Epoch 4: Generated password 7: 748611455611\n",
      "Epoch 4: Generated password 8: 747611750641\n",
      "Epoch 4: Generated password 9: 745612456661\n",
      "\n",
      "Epoch 5: g_loss improved from 0.69268 to 0.69305, saving model to training_sessions/tf_12digit_pattern4_2023_11_11_232310/models/best_model_epoch_000005\n",
      "INFO:tensorflow:Assets written to: training_sessions/tf_12digit_pattern4_2023_11_11_232310/models/best_model_epoch_000005/assets\n"
     ]
    },
    {
     "name": "stderr",
     "output_type": "stream",
     "text": [
      "INFO:tensorflow:Assets written to: training_sessions/tf_12digit_pattern4_2023_11_11_232310/models/best_model_epoch_000005/assets\n"
     ]
    },
    {
     "name": "stdout",
     "output_type": "stream",
     "text": [
      "1953/1953 [==============================] - 83s 42ms/step - d_loss: 0.6931 - g_loss: 0.6929\n",
      "Epoch 6/10\n",
      "   5/1953 [..............................] - ETA: 1:29 - d_loss: 0.6931 - g_loss: 0.6931"
     ]
    },
    {
     "name": "stderr",
     "output_type": "stream",
     "text": [
      "2023-11-11 23:30:30.365955: I tensorflow/core/kernels/data/shuffle_dataset_op.cc:422] ShuffleDatasetV3:4: Filling up shuffle buffer (this may take a while): 1378 of 10000\n"
     ]
    },
    {
     "name": "stdout",
     "output_type": "stream",
     "text": [
      "  10/1953 [..............................] - ETA: 37:47 - d_loss: 0.6931 - g_loss: 0.6931 "
     ]
    },
    {
     "name": "stderr",
     "output_type": "stream",
     "text": [
      "2023-11-11 23:30:34.423902: I tensorflow/core/kernels/data/shuffle_dataset_op.cc:452] Shuffle buffer filled.\n"
     ]
    },
    {
     "name": "stdout",
     "output_type": "stream",
     "text": [
      "1952/1953 [============================>.] - ETA: 0s - d_loss: 0.6931 - g_loss: 0.6931Epoch 5: Generated password 0: 741615656691\n",
      "Epoch 5: Generated password 1: 748611455611\n",
      "Epoch 5: Generated password 2: 742611456621\n",
      "Epoch 5: Generated password 3: 741660455611\n",
      "Epoch 5: Generated password 4: 748611455611\n",
      "Epoch 5: Generated password 5: 741618485611\n",
      "Epoch 5: Generated password 6: 747611656611\n",
      "Epoch 5: Generated password 7: 748611455611\n",
      "Epoch 5: Generated password 8: 747611750641\n",
      "Epoch 5: Generated password 9: 745616456661\n",
      "\n",
      "Epoch 6: g_loss improved from 0.69305 to 0.69314, saving model to training_sessions/tf_12digit_pattern4_2023_11_11_232310/models/best_model_epoch_000006\n",
      "INFO:tensorflow:Assets written to: training_sessions/tf_12digit_pattern4_2023_11_11_232310/models/best_model_epoch_000006/assets\n"
     ]
    },
    {
     "name": "stderr",
     "output_type": "stream",
     "text": [
      "INFO:tensorflow:Assets written to: training_sessions/tf_12digit_pattern4_2023_11_11_232310/models/best_model_epoch_000006/assets\n"
     ]
    },
    {
     "name": "stdout",
     "output_type": "stream",
     "text": [
      "1953/1953 [==============================] - 83s 42ms/step - d_loss: 0.6931 - g_loss: 0.6931\n",
      "Epoch 7/10\n",
      "   5/1953 [..............................] - ETA: 1:25 - d_loss: 0.6931 - g_loss: 0.6931"
     ]
    },
    {
     "name": "stderr",
     "output_type": "stream",
     "text": [
      "2023-11-11 23:31:52.317689: I tensorflow/core/kernels/data/shuffle_dataset_op.cc:422] ShuffleDatasetV3:4: Filling up shuffle buffer (this may take a while): 1382 of 10000\n"
     ]
    },
    {
     "name": "stdout",
     "output_type": "stream",
     "text": [
      "  11/1953 [..............................] - ETA: 32:10 - d_loss: 0.6931 - g_loss: 0.6931"
     ]
    },
    {
     "name": "stderr",
     "output_type": "stream",
     "text": [
      "2023-11-11 23:31:56.375280: I tensorflow/core/kernels/data/shuffle_dataset_op.cc:452] Shuffle buffer filled.\n"
     ]
    },
    {
     "name": "stdout",
     "output_type": "stream",
     "text": [
      "1952/1953 [============================>.] - ETA: 0s - d_loss: 0.6931 - g_loss: 0.6931Epoch 6: Generated password 0: 741615656691\n",
      "Epoch 6: Generated password 1: 748611455611\n",
      "Epoch 6: Generated password 2: 742611456621\n",
      "Epoch 6: Generated password 3: 741660455611\n",
      "Epoch 6: Generated password 4: 748611455611\n",
      "Epoch 6: Generated password 5: 741618485611\n",
      "Epoch 6: Generated password 6: 747611656611\n",
      "Epoch 6: Generated password 7: 748611455611\n",
      "Epoch 6: Generated password 8: 747611750641\n",
      "Epoch 6: Generated password 9: 745616456661\n",
      "\n",
      "Epoch 7: g_loss improved from 0.69314 to 0.69315, saving model to training_sessions/tf_12digit_pattern4_2023_11_11_232310/models/best_model_epoch_000007\n",
      "INFO:tensorflow:Assets written to: training_sessions/tf_12digit_pattern4_2023_11_11_232310/models/best_model_epoch_000007/assets\n"
     ]
    },
    {
     "name": "stderr",
     "output_type": "stream",
     "text": [
      "INFO:tensorflow:Assets written to: training_sessions/tf_12digit_pattern4_2023_11_11_232310/models/best_model_epoch_000007/assets\n"
     ]
    },
    {
     "name": "stdout",
     "output_type": "stream",
     "text": [
      "1953/1953 [==============================] - 82s 42ms/step - d_loss: 0.6931 - g_loss: 0.6931\n",
      "Epoch 8/10\n",
      "   7/1953 [..............................] - ETA: 1:27 - d_loss: 0.6931 - g_loss: 0.6931"
     ]
    },
    {
     "name": "stderr",
     "output_type": "stream",
     "text": [
      "2023-11-11 23:33:12.788599: I tensorflow/core/kernels/data/shuffle_dataset_op.cc:422] ShuffleDatasetV3:4: Filling up shuffle buffer (this may take a while): 1363 of 10000\n"
     ]
    },
    {
     "name": "stdout",
     "output_type": "stream",
     "text": [
      "  12/1953 [..............................] - ETA: 26:03 - d_loss: 0.6931 - g_loss: 0.6931"
     ]
    },
    {
     "name": "stderr",
     "output_type": "stream",
     "text": [
      "2023-11-11 23:33:16.903245: I tensorflow/core/kernels/data/shuffle_dataset_op.cc:452] Shuffle buffer filled.\n"
     ]
    },
    {
     "name": "stdout",
     "output_type": "stream",
     "text": [
      "1952/1953 [============================>.] - ETA: 0s - d_loss: 0.6931 - g_loss: 0.6931Epoch 7: Generated password 0: 741615656691\n",
      "Epoch 7: Generated password 1: 748611455611\n",
      "Epoch 7: Generated password 2: 742611456621\n",
      "Epoch 7: Generated password 3: 741660455611\n",
      "Epoch 7: Generated password 4: 748611455611\n",
      "Epoch 7: Generated password 5: 741618485611\n",
      "Epoch 7: Generated password 6: 747611656611\n",
      "Epoch 7: Generated password 7: 748611455611\n",
      "Epoch 7: Generated password 8: 747611750641\n",
      "Epoch 7: Generated password 9: 745616456661\n",
      "\n",
      "Epoch 8: g_loss did not improve from 0.69315\n",
      "1953/1953 [==============================] - 78s 40ms/step - d_loss: 0.6931 - g_loss: 0.6931\n",
      "Epoch 9/10\n",
      "   7/1953 [..............................] - ETA: 1:22 - d_loss: 0.6931 - g_loss: 0.6931"
     ]
    },
    {
     "name": "stderr",
     "output_type": "stream",
     "text": [
      "2023-11-11 23:34:30.921662: I tensorflow/core/kernels/data/shuffle_dataset_op.cc:422] ShuffleDatasetV3:4: Filling up shuffle buffer (this may take a while): 1355 of 10000\n"
     ]
    },
    {
     "name": "stdout",
     "output_type": "stream",
     "text": [
      "  13/1953 [..............................] - ETA: 24:54 - d_loss: 0.6931 - g_loss: 0.6931"
     ]
    },
    {
     "name": "stderr",
     "output_type": "stream",
     "text": [
      "2023-11-11 23:34:35.193796: I tensorflow/core/kernels/data/shuffle_dataset_op.cc:452] Shuffle buffer filled.\n"
     ]
    },
    {
     "name": "stdout",
     "output_type": "stream",
     "text": [
      "1945/1953 [============================>.] - ETA: 0s - d_loss: 0.6931 - g_loss: 0.6931"
     ]
    },
    {
     "name": "stderr",
     "output_type": "stream",
     "text": [
      "2023-11-11 23:35:44.638276: I tensorflow/core/kernels/data/shuffle_dataset_op.cc:422] ShuffleDatasetV3:4: Filling up shuffle buffer (this may take a while): 1315 of 10000\n"
     ]
    },
    {
     "name": "stdout",
     "output_type": "stream",
     "text": [
      "1953/1953 [==============================] - ETA: 0s - d_loss: 0.6931 - g_loss: 0.6931Epoch 8: Generated password 0: 741615656691\n",
      "Epoch 8: Generated password 1: 748611455611\n",
      "Epoch 8: Generated password 2: 742611456621\n",
      "Epoch 8: Generated password 3: 741660455611\n",
      "Epoch 8: Generated password 4: 748611455611\n",
      "Epoch 8: Generated password 5: 741618485611\n",
      "Epoch 8: Generated password 6: 747611656611\n",
      "Epoch 8: Generated password 7: 748611455611\n",
      "Epoch 8: Generated password 8: 747611750641\n",
      "Epoch 8: Generated password 9: 745616456661\n",
      "\n",
      "Epoch 9: g_loss improved from 0.69315 to 0.69315, saving model to training_sessions/tf_12digit_pattern4_2023_11_11_232310/models/best_model_epoch_000009\n",
      "INFO:tensorflow:Assets written to: training_sessions/tf_12digit_pattern4_2023_11_11_232310/models/best_model_epoch_000009/assets\n"
     ]
    },
    {
     "name": "stderr",
     "output_type": "stream",
     "text": [
      "INFO:tensorflow:Assets written to: training_sessions/tf_12digit_pattern4_2023_11_11_232310/models/best_model_epoch_000009/assets\n"
     ]
    },
    {
     "name": "stdout",
     "output_type": "stream",
     "text": [
      "1953/1953 [==============================] - 82s 42ms/step - d_loss: 0.6931 - g_loss: 0.6931\n",
      "Epoch 10/10\n",
      "  14/1953 [..............................] - ETA: 2:46 - d_loss: 0.6931 - g_loss: 0.6931"
     ]
    },
    {
     "name": "stderr",
     "output_type": "stream",
     "text": [
      "2023-11-11 23:35:49.153188: I tensorflow/core/kernels/data/shuffle_dataset_op.cc:452] Shuffle buffer filled.\n"
     ]
    },
    {
     "name": "stdout",
     "output_type": "stream",
     "text": [
      "1689/1953 [========================>.....] - ETA: 9s - d_loss: 0.6931 - g_loss: 0.6931"
     ]
    },
    {
     "name": "stderr",
     "output_type": "stream",
     "text": [
      "2023-11-11 23:36:49.515184: I tensorflow/core/kernels/data/shuffle_dataset_op.cc:422] ShuffleDatasetV3:4: Filling up shuffle buffer (this may take a while): 1311 of 10000\n"
     ]
    },
    {
     "name": "stdout",
     "output_type": "stream",
     "text": [
      "1802/1953 [==========================>...] - ETA: 5s - d_loss: 0.6931 - g_loss: 0.6931"
     ]
    },
    {
     "name": "stderr",
     "output_type": "stream",
     "text": [
      "2023-11-11 23:36:54.337307: I tensorflow/core/kernels/data/shuffle_dataset_op.cc:452] Shuffle buffer filled.\n"
     ]
    },
    {
     "name": "stdout",
     "output_type": "stream",
     "text": [
      "1952/1953 [============================>.] - ETA: 0s - d_loss: 0.6931 - g_loss: 0.6931Epoch 9: Generated password 0: 741615656691\n",
      "Epoch 9: Generated password 1: 748611455611\n",
      "Epoch 9: Generated password 2: 742611456621\n",
      "Epoch 9: Generated password 3: 741660455611\n",
      "Epoch 9: Generated password 4: 748611455611\n",
      "Epoch 9: Generated password 5: 741618485611\n",
      "Epoch 9: Generated password 6: 747611656611\n",
      "Epoch 9: Generated password 7: 748611455611\n",
      "Epoch 9: Generated password 8: 747611750641\n",
      "Epoch 9: Generated password 9: 745616456661\n",
      "\n",
      "Epoch 10: g_loss did not improve from 0.69315\n",
      "1953/1953 [==============================] - 72s 37ms/step - d_loss: 0.6931 - g_loss: 0.6931\n"
     ]
    }
   ],
   "source": [
    "import tensorflow as tf\n",
    "from tensorflow.keras.models import load_model\n",
    "from tensorflow.keras.callbacks import EarlyStopping, ModelCheckpoint\n",
    "\n",
    "steps_per_epoch = NUM_SAMPLES * NUM_FILES // BATCH_SIZE\n",
    "\n",
    "# Print the training settings\n",
    "print(\"***** Training Session Infomration & Configuration *****\")\n",
    "print(f\"TF_RECORD_OUTPUT_DIR: {TF_RECORD_OUTPUT_DIR}\")\n",
    "print(f\"Training session: {TRAINING_SESSION}\")\n",
    "print(f\"Training session path: {TRAINING_SESSION_PATH}\\n\")\n",
    "\n",
    "print(f\"Number of files: {NUM_FILES}\")\n",
    "print(f\"Number of samples: {NUM_SAMPLES}\\n\")\n",
    "\n",
    "print(f\"Batch size: {BATCH_SIZE}\")\n",
    "print(f\"Number of epochs: {EPOCHS}\")\n",
    "print(f\"Steps per epoch: {steps_per_epoch}\\n\")\n",
    "\n",
    "# Load model with custom objects\n",
    "custom_objects = {\n",
    "    'RanPassGAN': RanPassGAN,\n",
    "    'GeneratorLSTMv2': GeneratorLSTMv2,\n",
    "    'DiscriminatorLSTMv2': DiscriminatorLSTMv2\n",
    "}\n",
    "\n",
    "# Load the model\n",
    "model_path = 'resources/models/numeric_only/metal_12digit_pattern4_full_dataset_8_epochs/models/best_model_epoch_0008'\n",
    "loaded_model = load_model(model_path, custom_objects=custom_objects, compile=False)\n",
    "loaded_model.compile(gen_opt, dis_opt, gen_loss, dis_loss)\n",
    "\n",
    "sample_noise = tf.random.normal([BATCH_SIZE, 100])\n",
    "loaded_model(sample_noise)\n",
    "\n",
    "# Define callbacks\n",
    "early_stopping = EarlyStopping(\n",
    "    monitor='g_loss',  # or 'discriminator_loss' or another metric\n",
    "    patience=10,  # number of epochs to wait for improvement\n",
    "    mode='max',  # or 'min' depending on the metric you want to monitor\n",
    "    verbose=1)\n",
    "\n",
    "model_checkpoint = ModelCheckpoint(\n",
    "    filepath=TRAINING_SESSION_PATH + '/models/best_model_epoch_{epoch:06d}',\n",
    "    monitor='g_loss',\n",
    "    save_best_only=True,\n",
    "    mode='max',\n",
    "    save_format='tf',  # Set the save_format to \"tf\"\n",
    "    verbose=1\n",
    ")\n",
    "\n",
    "hist = loaded_model.fit(\n",
    "    parsed_dataset,\n",
    "    epochs=EPOCHS,\n",
    "    steps_per_epoch=steps_per_epoch,\n",
    "    callbacks=[\n",
    "        ModelMonitor(),\n",
    "        early_stopping,\n",
    "        model_checkpoint])"
   ]
  },
  {
   "cell_type": "code",
   "execution_count": 13,
   "metadata": {},
   "outputs": [
    {
     "name": "stdout",
     "output_type": "stream",
     "text": [
      "INFO:tensorflow:Assets written to: training_sessions/tf_12digit_pattern4_2023_11_11_232310/models/final_model/assets\n"
     ]
    },
    {
     "name": "stderr",
     "output_type": "stream",
     "text": [
      "INFO:tensorflow:Assets written to: training_sessions/tf_12digit_pattern4_2023_11_11_232310/models/final_model/assets\n"
     ]
    }
   ],
   "source": [
    "# Save the model after additional training\n",
    "final_model_file_path = os.path.join(TRAINING_SESSION_PATH, 'models/final_model')\n",
    "loaded_model.save(final_model_file_path, save_format='tf')\n"
   ]
  },
  {
   "cell_type": "code",
   "execution_count": 14,
   "metadata": {},
   "outputs": [],
   "source": [
    "import json\n",
    "\n",
    "# Save the current history to a JSON file\n",
    "hist_json_file = f\"{TRAINING_SESSION_PATH}/history.json\"\n",
    "with open(hist_json_file, mode='w') as f:\n",
    "    json.dump(hist.history, f)\n",
    "\n",
    "# Load the previous history\n",
    "prev_history = None\n",
    "prev_hist_path = \"resources/models/numeric_only/colab_12digit_pattern4_full_dataset_1_epoch/history.json\"\n",
    "\n",
    "with open(prev_hist_path, 'r') as file:\n",
    "    prev_history = json.load(file)\n",
    "\n",
    "# Append the current history to the previous history\n",
    "prev_history['d_loss'].extend(hist.history['d_loss'])\n",
    "prev_history['g_loss'].extend(hist.history['g_loss'])\n",
    "\n",
    "# Save the current history to a JSON file\n",
    "hist_json_file = f\"{TRAINING_SESSION_PATH}/history-merged.json\"\n",
    "with open(hist_json_file, 'w') as file:\n",
    "    json.dump(prev_history, file)"
   ]
  },
  {
   "cell_type": "code",
   "execution_count": 15,
   "metadata": {},
   "outputs": [
    {
     "data": {
      "image/png": "[encoded data removed]",
      "text/plain": [
       "<Figure size 640x480 with 1 Axes>"
      ]
     },
     "metadata": {},
     "output_type": "display_data"
    }
   ],
   "source": [
    "import matplotlib.pyplot as plt\n",
    "\n",
    "plt.suptitle('Loss')\n",
    "plt.plot(hist.history['d_loss'], label='d_loss')\n",
    "plt.plot(hist.history['g_loss'], label='g_loss')\n",
    "plt.legend()\n",
    "\n",
    "# save the graph as a png file\n",
    "plt.savefig(os.path.join(TRAINING_SESSION_PATH, \"win_loss_ratios.png\"))\n",
    "\n",
    "plt.show()"
   ]
  },
  {
   "cell_type": "code",
   "execution_count": 16,
   "metadata": {},
   "outputs": [
    {
     "name": "stdout",
     "output_type": "stream",
     "text": [
      "training_sessions/tf_12digit_pattern4_2023_11_11_232310\n",
      "training_sessions/tf_12digit_pattern4_2023_11_11_232310/models/final_model/weights/generator_weights_final.keras\n"
     ]
    }
   ],
   "source": [
    "import os\n",
    "\n",
    "final_model_file_path = os.path.join(TRAINING_SESSION_PATH, 'models/final_model/weights')\n",
    "\n",
    "# # Ensure the directory exists\n",
    "if not os.path.exists(final_model_file_path):\n",
    "    os.makedirs(final_model_file_path)\n",
    "\n",
    "print(f\"{TRAINING_SESSION_PATH}\")\n",
    "print(f\"{os.path.join(final_model_file_path, 'generator_weights_final.keras')}\")\n",
    "\n",
    "# Save the models in the 'trained_models' directory using the .keras format\n",
    "generator.save(os.path.join(final_model_file_path, 'generator_weights_final.keras'))\n",
    "discriminator.save(os.path.join(final_model_file_path, 'discriminator_weights_final.keras'))"
   ]
  },
  {
   "cell_type": "code",
   "execution_count": 17,
   "metadata": {},
   "outputs": [
    {
     "name": "stdout",
     "output_type": "stream",
     "text": [
      "No such directory: 'training_sessions/completed/training_sessions/tf_12digit_pattern4_2023_11_11_232310_success'\n"
     ]
    },
    {
     "data": {
      "text/plain": [
       "'training_sessions/completed/tf_12digit_pattern4_2023_11_11_232310_success/tf_12digit_pattern4_2023_11_11_232310_success.zip'"
      ]
     },
     "execution_count": 17,
     "metadata": {},
     "output_type": "execute_result"
    }
   ],
   "source": [
    "import shutil\n",
    "import os\n",
    "import zipfile\n",
    "\n",
    "# Rename the folder\n",
    "success_folder_path = f\"{TRAINING_SESSION_PATH}_success\"\n",
    "os.rename(TRAINING_SESSION_PATH, success_folder_path)\n",
    "\n",
    "# Ensure the target path exists, if not create it\n",
    "target_path = \"training_sessions/completed/\"\n",
    "if not os.path.exists(target_path):\n",
    "    os.makedirs(target_path)\n",
    "\n",
    "# Move the folder\n",
    "shutil.move(success_folder_path, target_path)\n",
    "\n",
    " # Check if the directory exists\n",
    "directory_path = os.path.join(target_path, success_folder_path) \n",
    "if not os.path.isdir(directory_path):\n",
    "    print(f\"No such directory: '{directory_path}'\")\n",
    "\n",
    "# If no zip filename is specified, use the directory name\n",
    "zip_filename = os.path.basename(directory_path) + \".zip\"\n",
    "\n",
    "# Creating a zip file\n",
    "with zipfile.ZipFile(zip_filename, 'w') as zipf:\n",
    "    for foldername, subfolders, filenames in os.walk(directory_path):\n",
    "        for filename in filenames:\n",
    "            # create complete filepath of file in directory\n",
    "            file_path = os.path.join(foldername, filename)\n",
    "            # Add file to zip file\n",
    "            zipf.write(file_path)\n",
    "\n",
    "project_zip_path = os.path.join(\"training_sessions\", \"completed\", f\"{TRAINING_SESSION}_success\")\n",
    "success_folder_path = f\"{TRAINING_SESSION}_success\"\n",
    "\n",
    "shutil.move(f\"{TRAINING_SESSION}_success.zip\", project_zip_path)"
   ]
  }
 ],
 "metadata": {
  "kernelspec": {
   "display_name": "passwordgan",
   "language": "python",
   "name": "passwordgan"
  },
  "language_info": {
   "codemirror_mode": {
    "name": "ipython",
    "version": 3
   },
   "file_extension": ".py",
   "mimetype": "text/x-python",
   "name": "python",
   "nbconvert_exporter": "python",
   "pygments_lexer": "ipython3",
   "version": "3.10.4"
  }
 },
 "nbformat": 4,
 "nbformat_minor": 2
}
